{
 "cells": [
  {
   "cell_type": "code",
   "execution_count": 1,
   "metadata": {},
   "outputs": [],
   "source": [
    "import dill as pickle\n",
    "from sklearn.model_selection import train_test_split\n",
    "from sklearn.neural_network import MLPRegressor"
   ]
  },
  {
   "cell_type": "code",
   "execution_count": 2,
   "metadata": {},
   "outputs": [],
   "source": [
    "with open('training_data_2.pkl', 'rb') as f:\n",
    "    data = pickle.load(f)"
   ]
  },
  {
   "cell_type": "code",
   "execution_count": 3,
   "metadata": {
    "scrolled": true
   },
   "outputs": [
    {
     "name": "stdout",
     "output_type": "stream",
     "text": [
      "(1.0, 1.0, 1.0, 1.0, 1.0, 1.0, 1.0, 1.0, 1.0, 1.0, 1.0, 1.0, 1.0, 1.0, 1.0, 1.0, 1.0, 1.0, 1.0, 1.0, 1.0, 1.0, 1.0, 1.0, 1.0, 0.508702200652665, 0.5222405271828665, 0.5661375661375662, 0.4782608695652174, 0.0, 0.0, 0.0, 0.0, 0.0, 0.0, 0.0, 0.0, 0.0, 0.0, 0.0, 0.0, 0.0, 0.0, 0.0, 0.0, 0.0, 0.0, 0.0, 0.0, 0.0, 0.0, 0.0, 0.0, 0.0, 0.0, 0.0, 0.0, 0.0, 0.0, 0.0, 0.0, 0.0, 0.0, 0.0, 0.0, 0.0, 0.0, 0.0, 0.0, 0.0, 0.0, 0.0, 0.0, 0.0, 0.0, 0.0, 0.0, 0.0, 0.0, 0.0, 0.0, 0.0, 0.0, 0.0, 0.0, 0.0, 0.0, 0.0, 0.0, 0.0, 0.0, 0.0, 0.0, 0.0, 0.0, 0.0, 0.0, 0.0, 0.0, 0.0)\n",
      "108661605\n"
     ]
    }
   ],
   "source": [
    "training_data = data\n",
    "\n",
    "X = tuple(data.keys())\n",
    "#Turn the y's into ratios\n",
    "y = tuple([data[ex][0]/data[ex][1] for ex in data])\n",
    "\n",
    "print(y[100:200])\n",
    "print(len(training_data))\n"
   ]
  },
  {
   "cell_type": "code",
   "execution_count": 4,
   "metadata": {},
   "outputs": [],
   "source": [
    "X_train, X_test, y_train, y_test = train_test_split(X, y, test_size = 0.05, random_state=142857)\n"
   ]
  },
  {
   "cell_type": "code",
   "execution_count": 6,
   "metadata": {},
   "outputs": [],
   "source": [
    "with open('mlp_5_v2.pkl', 'rb') as f:\n",
    "    regression_nn_v2 = pickle.load(f)\n",
    "with open('mlp_5.pkl', 'rb') as f:\n",
    "    regression_nn_v1 = pickle.load(f)"
   ]
  },
  {
   "cell_type": "code",
   "execution_count": null,
   "metadata": {},
   "outputs": [],
   "source": [
    "regression_nn_v1.get_params()"
   ]
  },
  {
   "cell_type": "code",
   "execution_count": null,
   "metadata": {},
   "outputs": [],
   "source": [
    "#Only run this to update an existing model (warm start)\n",
    "regression_nn = regression_nn_v1.partial_fit(X_train, y_train)"
   ]
  },
  {
   "cell_type": "code",
   "execution_count": null,
   "metadata": {
    "scrolled": true
   },
   "outputs": [],
   "source": [
    "#Only run this to make a new model\n",
    "regression_nn = MLPRegressor(batch_size=1000,hidden_layer_sizes=[200]*5,max_iter = 10, verbose=True).fit(X_train, y_train)\n"
   ]
  },
  {
   "cell_type": "code",
   "execution_count": null,
   "metadata": {},
   "outputs": [],
   "source": [
    "mlp_file = 'mlp_5_v2.pkl'\n",
    "print(\"Storing the file....\")\n",
    "with open(mlp_file, 'wb') as f:\n",
    "    pickle.dump(regression_nn, f)\n"
   ]
  },
  {
   "cell_type": "code",
   "execution_count": null,
   "metadata": {},
   "outputs": [],
   "source": [
    "score = regression_nn_v3.score(X_test, y_test)"
   ]
  },
  {
   "cell_type": "code",
   "execution_count": null,
   "metadata": {},
   "outputs": [],
   "source": [
    "pred = regression_nn.predict(X_test[:20])\n",
    "for i in range(20):\n",
    "    print(X_test[i], y_test[1], pred[i])\n"
   ]
  },
  {
   "cell_type": "code",
   "execution_count": null,
   "metadata": {},
   "outputs": [],
   "source": [
    "mlp_v1_file = 'mlp_5.pkl'\n",
    "with open(mlp_v1_file, 'rb') as f:\n",
    "    regression_nn_v1 = pickle.load(f)"
   ]
  },
  {
   "cell_type": "code",
   "execution_count": 7,
   "metadata": {},
   "outputs": [],
   "source": [
    "#pred_v1 = regression_nn_v1.predict(X_test)\n",
    "pred_v2 = regression_nn_v2.predict(X_test)"
   ]
  },
  {
   "cell_type": "code",
   "execution_count": null,
   "metadata": {},
   "outputs": [],
   "source": [
    "score_1 = regression_nn_v1.score(X_test, y_test)\n",
    "score_2 = regression_nn_v2.score(X_test, y_test)\n",
    "score_3 = regression_nn.score(X_test, y_test)\n"
   ]
  },
  {
   "cell_type": "code",
   "execution_count": null,
   "metadata": {
    "scrolled": true
   },
   "outputs": [],
   "source": [
    "print(score_1, score_2, score_3)"
   ]
  },
  {
   "cell_type": "code",
   "execution_count": 8,
   "metadata": {},
   "outputs": [
    {
     "name": "stdout",
     "output_type": "stream",
     "text": [
      "4227 0.06313681868728363\n",
      "4330 0.887319001355017\n"
     ]
    }
   ],
   "source": [
    "\n",
    "\n",
    "p1_losses = 0\n",
    "p1_loss_scores = 0\n",
    "p2_losses = 0\n",
    "p2_loss_scores = 0\n",
    "\"\"\"\n",
    "for i in range(len(X_test)):\n",
    "    if X_test[i].count(1) <= 3:\n",
    "        print(X_test[i])\n",
    "        print(y_test[i], pred[i])\n",
    "        print('\\n')\n",
    "\"\"\"\n",
    "for i in range(len(X_test[:1000000])):\n",
    "    if X_test[i].count(1) <= 3:\n",
    "        #print('loss', pred_v3[i])\n",
    "        p1_losses += 1\n",
    "        p1_loss_scores +=  pred_v2[i]\n",
    "    elif X_test[i].count(-1) <= 3:\n",
    "        #print('win', pred_v3[i])\n",
    "        p2_losses += 1\n",
    "        p2_loss_scores += pred_v2[i]\n",
    "        \n",
    "print(p1_losses, p1_loss_scores/p1_losses)\n",
    "print(p2_losses, p2_loss_scores/p2_losses)"
   ]
  },
  {
   "cell_type": "code",
   "execution_count": 10,
   "metadata": {
    "scrolled": true
   },
   "outputs": [
    {
     "name": "stdout",
     "output_type": "stream",
     "text": [
      "1.0 0.9738927652291033\n",
      "1.0 0.9254415754265576\n",
      "1.0 0.8394803144141747\n",
      "1.0 0.9547381549905198\n",
      "1.0 0.7682152346126006\n",
      "1.0 0.8005831682995397\n",
      "1.0 0.9459208850697673\n",
      "1.0 0.9092792099236513\n",
      "1.0 0.771095064671335\n",
      "1.0 0.9483193866112813\n",
      "1.0 0.9591265425485853\n",
      "1.0 0.8480332557397686\n",
      "1.0 0.7626986694665575\n",
      "1.0 0.9383014618206331\n",
      "1.0 0.8111310379600385\n",
      "1.0 0.8352750191541818\n",
      "1.0 0.9742026021755897\n",
      "1.0 0.6903323641695311\n",
      "1.0 0.9473245288712047\n",
      "1.0 0.9430319434765133\n",
      "1.0 0.7601541007723309\n",
      "1.0 0.9576284748982469\n",
      "1.0 0.7541316294057255\n",
      "1.0 0.9498960809370098\n",
      "1.0 0.9642538295375032\n"
     ]
    }
   ],
   "source": [
    "for i in range(len(X_test[:5000])):\n",
    "    if X_test[i].count(-1) <= 3:\n",
    "        print(y_test[i], pred_v2[i])"
   ]
  },
  {
   "cell_type": "code",
   "execution_count": 11,
   "metadata": {},
   "outputs": [
    {
     "name": "stdout",
     "output_type": "stream",
     "text": [
      "(1, 1, 1, 0, 1, 1, 0, 0, 0, -1, 1, 0, 0, 0, -1, 1, 0, 0, 0, -1, 0, -1, -1, -1, -1, 0, 0, 0, 0, 0, 0, 0, 0, 0, 0, 0, 0, 0, 0, 0, 0, 1) 0.4244215291750503 0.4162310336371707\n",
      "(1, 1, 1, 0, 0, 1, 0, 0, 0, -1, 1, 0, 0, 0, -1, 1, 0, 0, 0, -1, 0, -1, -1, -1, -1, 0, 0, 0, 1, 0, 0, 0, 0, 0, 0, 0, 0, 0, 0, 0, 0, 1) 0.45080369679569127 0.43875792418138954\n"
     ]
    }
   ],
   "source": [
    "for i in range(len(X_test)):\n",
    "    if X_test[i][-1] == 1:\n",
    "        print(X_test[i], y_test[i], pred_v2[i])"
   ]
  },
  {
   "cell_type": "code",
   "execution_count": null,
   "metadata": {},
   "outputs": [],
   "source": [
    "for i in range(1000):\n",
    "    if y_test[i] not in (0.0, 1.0):\n",
    "        print(X_test[i][:-1].count(1),X_test[i][:-1].count(2), X_test[i][-1], y_test[i], pred_v1[i], pred_v2[i])"
   ]
  },
  {
   "cell_type": "code",
   "execution_count": null,
   "metadata": {},
   "outputs": [],
   "source": []
  }
 ],
 "metadata": {
  "kernelspec": {
   "display_name": "Python 3",
   "language": "python",
   "name": "python3"
  },
  "language_info": {
   "codemirror_mode": {
    "name": "ipython",
    "version": 3
   },
   "file_extension": ".py",
   "mimetype": "text/x-python",
   "name": "python",
   "nbconvert_exporter": "python",
   "pygments_lexer": "ipython3",
   "version": "3.7.6"
  }
 },
 "nbformat": 4,
 "nbformat_minor": 4
}
